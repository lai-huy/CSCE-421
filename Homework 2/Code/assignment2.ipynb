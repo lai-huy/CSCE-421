{
 "cells": [
  {
   "cell_type": "code",
   "execution_count": 1,
   "id": "63a02c97",
   "metadata": {},
   "outputs": [],
   "source": [
    "import scipy.stats as st\n",
    "from typing import Tuple, List\n",
    "from sklearn.metrics import precision_score, recall_score\n",
    "from sklearn.metrics import roc_auc_score\n",
    "from sklearn.model_selection import StratifiedKFold\n",
    "from sklearn.model_selection import GridSearchCV\n",
    "from sklearn.metrics import f1_score\n",
    "from sklearn.linear_model import LinearRegression, LogisticRegression\n",
    "from sklearn.model_selection import train_test_split\n",
    "from sklearn import metrics\n",
    "import matplotlib.pyplot as plt\n",
    "import numpy as np\n",
    "import pandas as pd\n",
    "# ###############\n",
    "# ###############\n",
    "# Q1\n",
    "# ###############\n",
    "# ###############\n",
    "\n",
    "# Download and read the data.\n",
    "\n",
    "\n",
    "def read_data(filename: str) -> pd.DataFrame:\n",
    "    \"\"\"Read data and return dataframe\n",
    "\n",
    "    Args:\n",
    "        filename (str): name of the file\n",
    "\n",
    "    Returns:\n",
    "        pd.DataFrame: dataframe read from the file\n",
    "    \"\"\"\n",
    "    return pd.read_csv(filename)"
   ]
  },
  {
   "cell_type": "code",
   "execution_count": 2,
   "id": "554c7176",
   "metadata": {},
   "outputs": [],
   "source": [
    "# Prepare your input data and labels\n",
    "\n",
    "\n",
    "def prepare_data(df_train: pd.DataFrame, df_test: pd.DataFrame) -> tuple:\n",
    "    \"\"\"Seperate input data and labels, remove NaN values from both dataframes.\n",
    "\n",
    "    Args:\n",
    "        df_train (pd.DataFrame): train dataframe\n",
    "        df_test (pd.DataFrame): test dataframe\n",
    "\n",
    "    Returns:\n",
    "        tuple: train_data, train_label, test_data, test_label\n",
    "    \"\"\"\n",
    "    df_train = df_train.dropna()\n",
    "    df_test = df_test.dropna()\n",
    "\n",
    "    train_data = df_train['x']\n",
    "    train_label = df_train['y']\n",
    "    test_data = df_test['x']\n",
    "    test_label = df_test['y']\n",
    "    return np.array(train_data).reshape(-1, 1), np.array(train_label).reshape(-1, 1), np.array(test_data).reshape(-1, 1), np.array(test_label).reshape(-1, 1)"
   ]
  },
  {
   "cell_type": "markdown",
   "id": "33c2222a",
   "metadata": {},
   "source": [
    "Implement LinearRegression class\n",
    "\n",
    "\n",
    "class LinearRegression_Local:\n",
    "    def __init__(self, learning_rate=0.00001, iterations=30):\n",
    "        self.learning_rate = learning_rate\n",
    "        self.iterations = iterations\n",
    "\n",
    "    # Function for model training\n",
    "    def fit(self, X, Y):\n",
    "        self.X = X\n",
    "        self.Y = Y\n",
    "        # n is the number of features\n",
    "        self.m, self.n = (self.X).shape\n",
    "        # weight initialization\n",
    "        self.W = np.zeros(self.n)  # initialize weight with 0s\n",
    "        self.b = 0\n",
    "\n",
    "        # loop number of iterations given by init\n",
    "        for i in range(self.iterations):\n",
    "            # update the weights using function\n",
    "            self.update_weights()\n",
    "        return self\n",
    "\n",
    "    # Helper function to update weights in gradient descent\n",
    "\n",
    "    def update_weights(self):\n",
    "        Y_pred = self.predict(self.X)\n",
    "        dW = - (2 * (self.X.T).dot(self.Y - Y_pred)) / self.m\n",
    "        db = - 2 * np.sum(self.Y - Y_pred) / self.m\n",
    "\n",
    "        # update weights\n",
    "\n",
    "        self.W = self.W - self.learning_rate * dW\n",
    "        self.b = self.b - self.learning_rate * db\n",
    "\n",
    "        return self\n",
    "\n",
    "    # Hypothetical function  h( x )\n",
    "    def predict(self, X):\n",
    "        return X.dot(self.W) + self.b"
   ]
  },
  {
   "cell_type": "code",
   "execution_count": 3,
   "id": "8b52bc07",
   "metadata": {},
   "outputs": [],
   "source": [
    "# Build your model\n",
    "\n",
    "\n",
    "def build_model(train_X: np.array, train_y: np.array):\n",
    "    \"\"\"Train a linear regression moddel\n",
    "\n",
    "    Args:\n",
    "        train_X (np.array): test data set\n",
    "        train_y (np.array): test label set\n",
    "\n",
    "    Returns:\n",
    "        LinearRegression: a fit linear regression model\n",
    "    \"\"\"\n",
    "    model = LinearRegression()\n",
    "    model.fit(train_X, train_y)\n",
    "    return model"
   ]
  },
  {
   "cell_type": "code",
   "execution_count": 4,
   "id": "1667b2e0",
   "metadata": {},
   "outputs": [],
   "source": [
    "\n",
    "\n",
    "def pred_func(model: LinearRegression, X_test: np.array) -> np.array:\n",
    "    \"\"\"return numpy array comprising of prediction on test set using the model\n",
    "\n",
    "    Args:\n",
    "        model (LinearRegression): model to predict with \n",
    "        X_test (np.array): data to test on\n",
    "\n",
    "    Returns:\n",
    "        np.array: reshaped array\n",
    "    \"\"\"\n",
    "    x = np.array(model.predict(X_test))\n",
    "    return x.reshape(-1, 1)"
   ]
  },
  {
   "cell_type": "code",
   "execution_count": 5,
   "id": "1ea2baa9",
   "metadata": {},
   "outputs": [],
   "source": [
    "# Calculate and print the mean square error of your prediction\n",
    "\n",
    "\n",
    "def MSE(y_test: np.array, pred: np.array) -> np.array:\n",
    "    \"\"\"return the mean square error corresponding to your prediction\n",
    "\n",
    "    Args:\n",
    "        y_test (_type_): _description_\n",
    "        pred (_type_): _description_\n",
    "\n",
    "    Returns:\n",
    "        _type_: _description_\n",
    "    \"\"\"\n",
    "    '''\n",
    "        return the mean square error corresponding to your prediction\n",
    "    '''\n",
    "\n",
    "    return np.square(np.subtract(y_test, pred)).mean()"
   ]
  },
  {
   "cell_type": "markdown",
   "id": "001987f5",
   "metadata": {},
   "source": [
    "###############\n",
    "###############\n",
    "Q2\n",
    "###############\n",
    "###############"
   ]
  },
  {
   "cell_type": "code",
   "execution_count": 6,
   "id": "96983236",
   "metadata": {},
   "outputs": [],
   "source": [
    "\n",
    "\n",
    "def read_training_data(filename: str) -> tuple:\n",
    "    '''\n",
    "        read train data into a dataframe df1, store the top 10 entries of the dataframe in df2\n",
    "        and return a tuple of the form (df1, df2, shape of df1)   \n",
    "    '''\n",
    "\n",
    "    df1 = pd.read_csv(filename)\n",
    "    df2 = df1.iloc[:10]\n",
    "    return df1, df2, df1.shape"
   ]
  },
  {
   "cell_type": "code",
   "execution_count": 7,
   "id": "b18c5276",
   "metadata": {},
   "outputs": [],
   "source": [
    "# Prepare your input data and labels\n",
    "\n",
    "\n",
    "def data_clean(df_train: pd.DataFrame) -> tuple:\n",
    "    '''\n",
    "        check for any missing values in the data and store the missing values in series s, drop the entries corresponding \n",
    "        to the missing values and store dataframe in df_train and return a tuple in the form: (s, df_train)\n",
    "    '''\n",
    "    s = (df_train.isnull().values.any()).squeeze()\n",
    "    df_train = df_train.dropna()\n",
    "    return s, df_train"
   ]
  },
  {
   "cell_type": "code",
   "execution_count": 8,
   "id": "63628eec",
   "metadata": {},
   "outputs": [],
   "source": [
    "\n",
    "\n",
    "def feature_extract(df_train: pd.DataFrame) -> tuple:\n",
    "    '''\n",
    "        New League is the label column.\n",
    "        Separate the data from labels.\n",
    "        return a tuple of the form: (features(dtype: pandas.core.frame.DataFrame), label(dtype: pandas.core.series.Series))\n",
    "    '''\n",
    "    return df_train.drop(['NewLeague'], axis=1),  pd.Series(df_train['NewLeague'])"
   ]
  },
  {
   "cell_type": "code",
   "execution_count": 9,
   "id": "010740e2",
   "metadata": {},
   "outputs": [],
   "source": [
    "\n",
    "\n",
    "def data_preprocess(feature: pd.DataFrame) -> pd.DataFrame:\n",
    "    '''\n",
    "        Separate numerical columns from nonnumerical columns. (In pandas, check out .select dtypes(exclude = ['int64', 'float64']) and .select dtypes(\n",
    "        include = ['int64', 'float64']). Afterwards, use get dummies for transforming to categorical. Then concat both parts (pd.concat()).\n",
    "        and return the concatenated dataframe.\n",
    "    '''\n",
    "    df_numerical = feature.select_dtypes(include=['int64', 'float64'])\n",
    "    df_categorical = feature.select_dtypes(exclude=['int64', 'float64'])\n",
    "    df_categorical = pd.get_dummies(df_categorical)\n",
    "\n",
    "    return pd.concat([df_categorical, df_numerical], axis=1)"
   ]
  },
  {
   "cell_type": "code",
   "execution_count": 10,
   "id": "c9edceac",
   "metadata": {},
   "outputs": [],
   "source": [
    "\n",
    "\n",
    "def label_transform(labels: pd.Series) -> pd.Series:\n",
    "    '''\n",
    "        Transform the labels into numerical format and return the labels\n",
    "    '''\n",
    "    labels = labels.replace('A', 0)\n",
    "    labels = labels.replace('N', 1)\n",
    "    return labels"
   ]
  },
  {
   "cell_type": "markdown",
   "id": "7a1c9fde",
   "metadata": {},
   "source": [
    "###############\n",
    "###############\n",
    "Q3\n",
    "###############\n",
    "###############"
   ]
  },
  {
   "cell_type": "code",
   "execution_count": 11,
   "id": "22498b12",
   "metadata": {},
   "outputs": [],
   "source": [
    "\n",
    "\n",
    "def data_split(features: pd.DataFrame, label: pd.Series, random_state=42) -> Tuple[np.ndarray, np.ndarray, np.ndarray, np.ndarray]:\n",
    "    '''\n",
    "        Split 80% of data as a training set and the remaining 20% of the data as testing set using the given random state\n",
    "        return training and testing sets in the following order: X_train, X_test, y_train, y_test\n",
    "    '''\n",
    "    return train_test_split(features, label, test_size=0.2, random_state=random_state)"
   ]
  },
  {
   "cell_type": "code",
   "execution_count": 12,
   "id": "e417541b",
   "metadata": {},
   "outputs": [],
   "source": [
    "\n",
    "\n",
    "def train_linear_regression(x_train: np.ndarray, y_train: np.ndarray):\n",
    "    '''\n",
    "        Instantiate an object of LinearRegression class, train the model object\n",
    "        using training data and return the model object\n",
    "    '''\n",
    "    model = LinearRegression()\n",
    "    model.fit(x_train, y_train)\n",
    "    return model"
   ]
  },
  {
   "cell_type": "code",
   "execution_count": 13,
   "id": "38234852",
   "metadata": {},
   "outputs": [],
   "source": [
    "\n",
    "\n",
    "def train_logistic_regression(x_train: np.ndarray, y_train: np.ndarray, max_iter=1000000):\n",
    "    '''\n",
    "        Instantiate an object of LogisticRegression class, train the model object\n",
    "        use provided max_iterations for training logistic model\n",
    "        using training data and return the model object\n",
    "    '''\n",
    "    model = LogisticRegression(max_iter=max_iter)\n",
    "    model.fit(x_train, y_train)\n",
    "    return model"
   ]
  },
  {
   "cell_type": "code",
   "execution_count": 14,
   "id": "6cfd1373",
   "metadata": {},
   "outputs": [],
   "source": [
    "\n",
    "\n",
    "def models_coefficients(linear_model, logistic_model) -> Tuple[np.ndarray, np.ndarray]:\n",
    "    '''\n",
    "        return the tuple consisting the coefficients for each feature for Linear Regression \n",
    "        and Logistic Regression Models respectively\n",
    "    '''\n",
    "    return linear_model.coef_, logistic_model.coef_"
   ]
  },
  {
   "cell_type": "code",
   "execution_count": 15,
   "id": "a16841a3",
   "metadata": {},
   "outputs": [],
   "source": [
    "def linear_pred_and_area_under_curve(linear_model, x_test: np.ndarray, y_test: np.ndarray) -> Tuple[np.array, np.array, np.array, np.array, float]:\n",
    "    '''\n",
    "        return the tuple consisting the predictions and area under the curve measurements of Linear Regression \n",
    "        and Logistic Regression Models respectively in the following order \n",
    "        [linear_reg_pred, linear_reg_fpr, linear_reg_tpr, linear_threshold, linear_reg_area_under_curve]\n",
    "        Finally plot the ROC Curve\n",
    "    '''\n",
    "    pred = linear_model.predict(x_test)\n",
    "    fpr, tpr, thresholds = metrics.roc_curve(y_test, pred) \n",
    "    return  pred, fpr, tpr, thresholds, roc_auc_score(y_test, pred) "
   ]
  },
  {
   "cell_type": "code",
   "execution_count": 16,
   "id": "81e0320c",
   "metadata": {},
   "outputs": [],
   "source": [
    "def logistic_pred_and_area_under_curve(logistic_model: LogisticRegression, x_test: np.ndarray, y_test: np.ndarray) -> Tuple[np.array, np.array, np.array, np.array, float]:\n",
    "    '''\n",
    "        return the tuple consisting the predictions and area under the curve measurements of Linear Regression \n",
    "        and Logistic Regression Models respectively in the following order \n",
    "        [log_reg_pred, log_reg_fpr, log_reg_tpr, log_threshold, log_reg_area_under_curve]\n",
    "        Finally plot the ROC Curve\n",
    "    '''\n",
    "    pred = logistic_model.predict(x_test)\n",
    "    fpr, tpr, thresholds = metrics.roc_curve(y_test, pred) \n",
    "    return  pred, fpr, tpr, thresholds, roc_auc_score(y_test, pred) "
   ]
  },
  {
   "cell_type": "code",
   "execution_count": 17,
   "id": "120b84ae",
   "metadata": {},
   "outputs": [],
   "source": [
    "def optimal_thresholds(linear_threshold: np.ndarray, linear_reg_fpr: np.ndarray, linear_reg_tpr: np.ndarray, log_threshold: np.ndarray, log_reg_fpr: np.ndarray, log_reg_tpr: np.ndarray) -> Tuple[float, float]:\n",
    "    '''\n",
    "        return the tuple consisting the thresholds of Linear Regression and Logistic Regression Models respectively\n",
    "    '''\n",
    "    max_lin = np.argmax(linear_reg_tpr - linear_reg_fpr)\n",
    "    max_log = np.argmax(log_reg_tpr - log_reg_fpr)\n",
    "    return linear_threshold, log_threshold"
   ]
  },
  {
   "cell_type": "code",
   "execution_count": 18,
   "id": "0c454c3c",
   "metadata": {},
   "outputs": [],
   "source": [
    "\n",
    "def stratified_k_fold_cross_validation(num_of_folds: int, shuffle: True, features: pd.DataFrame, label: pd.Series):\n",
    "    '''\n",
    "        split the data into 5 groups. Checkout StratifiedKFold in scikit-learn\n",
    "    '''\n",
    "    strat = StratifiedKFold(n_splits=5, shuffle=shuffle)\n",
    "    return strat.get_n_splits(features, label)"
   ]
  },
  {
   "cell_type": "code",
   "execution_count": 19,
   "id": "fa4df646",
   "metadata": {},
   "outputs": [],
   "source": [
    "def train_test_folds(skf, num_of_folds: int, features: pd.DataFrame, label: pd.Series) -> Tuple[np.ndarray, np.ndarray, np.ndarray, dict]:\n",
    "    '''\n",
    "        train and test in for loop with different training and test sets obatined from skf. \n",
    "        use a PENALTY of 12 for logitic regression model for training\n",
    "        find features in each fold and store them in features_count array.\n",
    "        populate auc_log and auc_linear arrays with roc_auc_score of each set trained on logistic regression and linear regression models respectively.\n",
    "        populate f1_dict['log_reg'] and f1_dict['linear_reg'] arrays with f1_score of trained logistic and linear regression models on each set\n",
    "        return features_count, auc_log, auc_linear, f1_dict dictionary\n",
    "    '''\n",
    "    pass\n",
    "\n",
    "\n",
    "def is_features_count_changed(features_count: np.array) -> bool:\n",
    "    '''\n",
    "        compare number of features in each fold (features_count array's each element)\n",
    "        return true if features count doesn't change in each fold. else return false\n",
    "    '''\n",
    "    for i in range(len(features_count) - 1):\n",
    "        if features_count[i] != features_count[i - 1]:\n",
    "            return False\n",
    "    return True\n",
    "\n",
    "\n",
    "def mean_confidence_interval(data: np.array, confidence=0.95) -> Tuple[float, float, float]:\n",
    "    '''\n",
    "        To calculate mean and confidence interval, in scipy checkout .sem to find standard error of the mean of given data (AUROCs/ f1 scores of each model, linear and logistic trained on all sets). \n",
    "        Then compute Percent Point Function available in scipy and mutiply it with standard error calculated earlier to calculate h. \n",
    "        The required interval is from mean-h to mean+h\n",
    "        return the tuple consisting of mean, mean -h, mean+h\n",
    "    '''\n",
    "    n = len(data)\n",
    "    m, se = np.mean(data), st.sem(data)\n",
    "    h = se * st.t.ppf((1 + confidence) / 2, n - 1)\n",
    "    return m, m - h, m + h"
   ]
  },
  {
   "cell_type": "code",
   "execution_count": 20,
   "id": "c58c780f",
   "metadata": {},
   "outputs": [
    {
     "data": {
      "image/png": "[encoded data removed]",
      "text/plain": [
       "<Figure size 640x480 with 1 Axes>"
      ]
     },
     "metadata": {},
     "output_type": "display_data"
    },
    {
     "data": {
      "image/png": "[encoded data removed]",
      "text/plain": [
       "<Figure size 640x480 with 1 Axes>"
      ]
     },
     "metadata": {},
     "output_type": "display_data"
    },
    {
     "ename": "TypeError",
     "evalue": "stratified_k_fold_cross_validation() missing 1 required positional argument: 'label'",
     "output_type": "error",
     "traceback": [
      "\u001b[0;31m---------------------------------------------------------------------------\u001b[0m",
      "\u001b[0;31mTypeError\u001b[0m                                 Traceback (most recent call last)",
      "Cell \u001b[0;32mIn[20], line 81\u001b[0m\n\u001b[1;32m     76\u001b[0m plt\u001b[39m.\u001b[39mshow()\n\u001b[1;32m     78\u001b[0m linear_optimal_threshold, log_optimal_threshold \u001b[39m=\u001b[39m optimal_thresholds(\n\u001b[1;32m     79\u001b[0m     linear_threshold, linear_reg_fpr, linear_reg_tpr, log_threshold, log_reg_fpr, log_reg_tpr)\n\u001b[0;32m---> 81\u001b[0m skf \u001b[39m=\u001b[39m stratified_k_fold_cross_validation(\n\u001b[1;32m     82\u001b[0m     num_of_folds, final_features, final_label)\n\u001b[1;32m     83\u001b[0m features_count, auc_log, auc_linear, f1_dict \u001b[39m=\u001b[39m train_test_folds(\n\u001b[1;32m     84\u001b[0m     skf, num_of_folds, final_features, final_label)\n\u001b[1;32m     86\u001b[0m \u001b[39mprint\u001b[39m(\u001b[39m\"\u001b[39m\u001b[39mDoes features change in each fold?\u001b[39m\u001b[39m\"\u001b[39m)\n",
      "\u001b[0;31mTypeError\u001b[0m: stratified_k_fold_cross_validation() missing 1 required positional argument: 'label'"
     ]
    }
   ],
   "source": [
    "if __name__ == \"__main__\":\n",
    "\n",
    "    ################\n",
    "    ################\n",
    "    # Q1\n",
    "    ################\n",
    "    ################\n",
    "    data_path_train = \"./path/train.csv\"\n",
    "    data_path_test = \"./path/test.csv\"\n",
    "    df_train, df_test = read_data(data_path_train), read_data(data_path_test)\n",
    "\n",
    "    train_X, train_y, test_X, test_y = prepare_data(df_train, df_test)\n",
    "    model = build_model(train_X, train_y)\n",
    "\n",
    "    # Make prediction with test set\n",
    "    preds = pred_func(model, test_X)\n",
    "\n",
    "    # Calculate and print the mean square error of your prediction\n",
    "    mean_square_error = MSE(test_y, preds)\n",
    "\n",
    "    # plot your prediction and labels, you can save the plot and add in the report\n",
    "\n",
    "    plt.scatter(test_X, test_y, label='label')\n",
    "    plt.plot(test_X, preds, label='pred', color=\"orange\")\n",
    "    plt.legend()\n",
    "    plt.show()\n",
    "\n",
    "    ################\n",
    "    ################\n",
    "    # Q2\n",
    "    ################\n",
    "    ################\n",
    "\n",
    "    data_path_training = \"./path/Hitters.csv\"\n",
    "\n",
    "    train_df, df2, df_train_shape = read_training_data(data_path_training)\n",
    "    s, df_train_mod = data_clean(train_df)\n",
    "    features, label = feature_extract(df_train_mod)\n",
    "    final_features = data_preprocess(features)\n",
    "    final_label = label_transform(label)\n",
    "\n",
    "    ################\n",
    "    ################\n",
    "    # Q3\n",
    "    ################\n",
    "    ################\n",
    "\n",
    "    num_of_folds = 5\n",
    "    max_iter = 100000008\n",
    "    X = final_features\n",
    "    y = final_features\n",
    "    auc_log = []\n",
    "    auc_linear = []\n",
    "    features_count = []\n",
    "    f1_dict = {'log_reg': [], 'linear_reg': []}\n",
    "    is_features_count_changed = True\n",
    "\n",
    "    X_train, X_test, y_train, y_test = data_split(final_features, final_label)\n",
    "\n",
    "    linear_model = train_linear_regression(X_train, y_train)\n",
    "\n",
    "    logistic_model = train_logistic_regression(X_train, y_train)\n",
    "\n",
    "    linear_coef, logistic_coef = models_coefficients(\n",
    "        linear_model, logistic_model)\n",
    "\n",
    "    linear_y_pred, linear_reg_fpr, linear_reg_tpr, linear_reg_area_under_curve, linear_threshold = linear_pred_and_area_under_curve(\n",
    "        linear_model, X_test, y_test)\n",
    "\n",
    "    log_y_pred, log_reg_fpr, log_reg_tpr, log_reg_area_under_curve, log_threshold = logistic_pred_and_area_under_curve(\n",
    "        logistic_model, X_test, y_test)\n",
    "\n",
    "    plt.plot(log_reg_fpr, log_reg_tpr, label='logistic')\n",
    "    plt.plot(linear_reg_fpr, linear_reg_tpr, label='linear')\n",
    "    plt.legend()\n",
    "    plt.show()\n",
    "\n",
    "    linear_optimal_threshold, log_optimal_threshold = optimal_thresholds(\n",
    "        linear_threshold, linear_reg_fpr, linear_reg_tpr, log_threshold, log_reg_fpr, log_reg_tpr)\n",
    "\n",
    "    skf = stratified_k_fold_cross_validation(\n",
    "        num_of_folds, final_features, final_label)\n",
    "    features_count, auc_log, auc_linear, f1_dict = train_test_folds(\n",
    "        skf, num_of_folds, final_features, final_label)\n",
    "\n",
    "    print(\"Does features change in each fold?\")\n",
    "\n",
    "    # call is_features_count_changed function and return true if features count changes in each fold. else return false\n",
    "    is_features_count_changed = is_features_count_changed(features_count)\n",
    "\n",
    "    print(is_features_count_changed)\n",
    "\n",
    "    auc_linear_mean, auc_linear_open_interval, auc_linear_close_interval = 0, 0, 0\n",
    "    auc_log_mean, auc_log_open_interval, auc_log_close_interval = 0, 0, 0\n",
    "\n",
    "    f1_linear_mean, f1_linear_open_interval, f1_linear_close_interval = 0, 0, 0\n",
    "    f1_log_mean, f1_log_open_interval, f1_log_close_interval = 0, 0, 0\n",
    "\n",
    "    # Find mean and 95% confidence interval for the AUROCs for each model and populate the above variables accordingly\n",
    "    # Hint: use mean_confidence_interval function and pass roc_auc_scores of each fold for both models (ex: auc_log)\n",
    "    # Find mean and 95% confidence interval for the f1 score for each model.\n",
    "\n",
    "    auc_linear_mean, auc_linear_open_interval, auc_linear_close_interval = assignment2.mean_confidence_interval(\n",
    "        auc_linear)\n",
    "    auc_log_mean, auc_log_open_interval, auc_log_close_interval = assignment2.mean_confidence_interval(\n",
    "        auc_log)\n",
    "\n",
    "    f1_linear_mean, f1_linear_open_interval, f1_linear_close_intervel = assignment2.mean_confidence_interval(\n",
    "        f1_dict['linear_reg'])\n",
    "    f1_log_mean, f1_log_open_interval, f1_log_close_interval = assignment2.mean_confidence_interval(\n",
    "        f1_dict['log_reg'])"
   ]
  },
  {
   "cell_type": "code",
   "execution_count": 25,
   "id": "f88f9ccd",
   "metadata": {},
   "outputs": [
    {
     "data": {
      "text/plain": [
       "array([ 1.95467986,  0.95467986,  0.75203158,  0.14189673,  0.11195391,\n",
       "        0.09690581,  0.09179067, -0.00375475, -0.00797154, -0.18302528])"
      ]
     },
     "execution_count": 25,
     "metadata": {},
     "output_type": "execute_result"
    }
   ],
   "source": [
    "linear_reg_area_under_curve"
   ]
  },
  {
   "cell_type": "code",
   "execution_count": 24,
   "id": "249c9d98",
   "metadata": {},
   "outputs": [
    {
     "data": {
      "text/plain": [
       "0.9560117302052785"
      ]
     },
     "execution_count": 24,
     "metadata": {},
     "output_type": "execute_result"
    }
   ],
   "source": [
    "linear_optimal_threshold"
   ]
  }
 ],
 "metadata": {
  "jupytext": {
   "cell_metadata_filter": "-all",
   "main_language": "python",
   "notebook_metadata_filter": "-all"
  },
  "kernelspec": {
   "display_name": "Python 3",
   "language": "python",
   "name": "python3"
  },
  "language_info": {
   "codemirror_mode": {
    "name": "ipython",
    "version": 3
   },
   "file_extension": ".py",
   "mimetype": "text/x-python",
   "name": "python",
   "nbconvert_exporter": "python",
   "pygments_lexer": "ipython3",
   "version": "3.10.10"
  },
  "vscode": {
   "interpreter": {
    "hash": "8a94588eda9d64d9e9a351ab8144e55b1fabf5113b54e67dd26a8c27df0381b3"
   }
  }
 },
 "nbformat": 4,
 "nbformat_minor": 5
}
