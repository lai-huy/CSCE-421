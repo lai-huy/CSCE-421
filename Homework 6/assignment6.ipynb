{
  "cells": [
    {
      "attachments": {},
      "cell_type": "markdown",
      "metadata": {
        "id": "WcE39zEwyuJ7"
      },
      "source": [
        "# CSCE 421 :: Machine Learning :: Texas A&M University :: Spring 2023\n",
        "\n",
        "# Homework 6 (HW-6)\n",
        "**Name: Huy Quang Lai**  \n",
        "**UIN: 132000359**  "
      ]
    },
    {
      "cell_type": "markdown",
      "metadata": {
        "id": "ifUFY68YyuJ_"
      },
      "source": [
        "# Convolutional Neural Networks\n",
        "\n",
        "In this assignment, you'll be coding up a convolutional neural network from scratch to classify images using PyTorch.  \n",
        "\n",
        "### Instructions\n",
        "- Install PyTorch following the instructions [here](https://pytorch.org/).\n",
        "- Install the [`torchinfo` package](https://github.com/TylerYep/torchinfo) to visualize the network architecture and the number of parameters. The maximum number of parameters you are allowed to use for your network is **100,000**. \n",
        "- You are required to complete the functions defined in the code blocks following each question. Fill out sections of the code marked `\"YOUR CODE HERE\"`.\n",
        "- You're free to add any number of methods within each class.\n",
        "- You may also add any number of additional code blocks that you deem necessary. \n",
        "- Once you've filled out your solutions, submit the notebook on Canvas.\n",
        "- Do **NOT** forget to type in your name and UIN at the beginning of the notebook."
      ]
    },
    {
      "cell_type": "markdown",
      "metadata": {
        "id": "43mQs43ryuKA"
      },
      "source": [
        "## Data Preparation"
      ]
    },
    {
      "cell_type": "code",
      "execution_count": 1,
      "metadata": {
        "id": "RDLyVNHR0CI4"
      },
      "outputs": [
        {
          "name": "stdout",
          "output_type": "stream",
          "text": [
            "Defaulting to user installation because normal site-packages is not writeable\n",
            "Requirement already satisfied: torchinfo in /home/pineapple/.local/lib/python3.10/site-packages (1.7.2)\n",
            "\n",
            "\u001b[1m[\u001b[0m\u001b[34;49mnotice\u001b[0m\u001b[1;39;49m]\u001b[0m\u001b[39;49m A new release of pip is available: \u001b[0m\u001b[31;49m23.1\u001b[0m\u001b[39;49m -> \u001b[0m\u001b[32;49m23.1.2\u001b[0m\n",
            "\u001b[1m[\u001b[0m\u001b[34;49mnotice\u001b[0m\u001b[1;39;49m]\u001b[0m\u001b[39;49m To update, run: \u001b[0m\u001b[32;49mpip install --upgrade pip\u001b[0m\n",
            "Note: you may need to restart the kernel to use updated packages.\n"
          ]
        }
      ],
      "source": [
        "%pip install torchinfo"
      ]
    },
    {
      "cell_type": "code",
      "execution_count": 2,
      "metadata": {
        "id": "_0NNNwDRyuKA"
      },
      "outputs": [],
      "source": [
        "# Importing the libraries\n",
        "import os\n",
        "import torch\n",
        "import torchvision\n",
        "from torchvision.utils import make_grid\n",
        "\n",
        "import numpy as np"
      ]
    },
    {
      "cell_type": "code",
      "execution_count": 3,
      "metadata": {
        "id": "Q6nztLS7yuKC"
      },
      "outputs": [],
      "source": [
        "from torchvision.datasets import FashionMNIST\n",
        "from torchvision.transforms import Compose, ToTensor, Normalize"
      ]
    },
    {
      "cell_type": "code",
      "execution_count": 4,
      "metadata": {
        "id": "Z_uzCztNyuKD"
      },
      "outputs": [],
      "source": [
        "# Transform to normalize the data and convert to a tensor\n",
        "transform = Compose([ToTensor(),\n",
        "    Normalize((0.5,), (0.5,))\n",
        "    ])\n",
        "\n",
        "# Download the data\n",
        "dataset = FashionMNIST('MNIST_data/', download = True, train = True, transform = transform)"
      ]
    },
    {
      "cell_type": "markdown",
      "metadata": {
        "id": "2S1W1ktCyuKD"
      },
      "source": [
        "## Data Exploration"
      ]
    },
    {
      "cell_type": "markdown",
      "metadata": {
        "id": "t5JfHJvzyuKE"
      },
      "source": [
        "Let's take a look at the classes in our dataset."
      ]
    },
    {
      "cell_type": "code",
      "execution_count": 5,
      "metadata": {
        "id": "yZ2JquNdyuKE"
      },
      "outputs": [
        {
          "name": "stdout",
          "output_type": "stream",
          "text": [
            "['T-shirt/top', 'Trouser', 'Pullover', 'Dress', 'Coat', 'Sandal', 'Shirt', 'Sneaker', 'Bag', 'Ankle boot']\n"
          ]
        }
      ],
      "source": [
        "print(dataset.classes)"
      ]
    },
    {
      "cell_type": "code",
      "execution_count": 6,
      "metadata": {
        "id": "QU9EQWFoyuKE"
      },
      "outputs": [],
      "source": [
        "import matplotlib.pyplot as plt\n",
        "\n",
        "def show_example(img, label):\n",
        "    print('Label: {} ({})'.format(dataset.classes[label], label))\n",
        "    plt.imshow(img.squeeze(), cmap='Greys_r')\n",
        "    plt.axis(False)"
      ]
    },
    {
      "cell_type": "code",
      "execution_count": 7,
      "metadata": {
        "id": "TovSQLF6yuKF"
      },
      "outputs": [
        {
          "name": "stdout",
          "output_type": "stream",
          "text": [
            "Label: Dress (3)\n"
          ]
        },
        {
          "data": {
            "image/png": "[encoded data removed]",
            "text/plain": [
              "<Figure size 640x480 with 1 Axes>"
            ]
          },
          "metadata": {},
          "output_type": "display_data"
        }
      ],
      "source": [
        "show_example(*dataset[20])"
      ]
    },
    {
      "cell_type": "code",
      "execution_count": 8,
      "metadata": {
        "id": "lDiRVqLsyuKF"
      },
      "outputs": [
        {
          "name": "stdout",
          "output_type": "stream",
          "text": [
            "Label: Sneaker (7)\n"
          ]
        },
        {
          "data": {
            "image/png": "[encoded data removed]",
            "text/plain": [
              "<Figure size 640x480 with 1 Axes>"
            ]
          },
          "metadata": {},
          "output_type": "display_data"
        }
      ],
      "source": [
        "show_example(*dataset[20000])"
      ]
    },
    {
      "cell_type": "markdown",
      "metadata": {
        "id": "8GMSy_GHyuKF"
      },
      "source": [
        "## Creating Training and Validation Datasets"
      ]
    },
    {
      "cell_type": "markdown",
      "metadata": {
        "id": "R_MEJjfYyuKF"
      },
      "source": [
        "The `split_indices` function takes in the size of the entire dataset, `n`, the fraction of data to be used as validation set, `val_frac`, and the random seed and returns the indices of the data points to be added to the validation dataset.  \n",
        "\n",
        "**Choose a suitable fraction for your validation set and experiment with the seed. Remember that the better your validation set, the higher the chances that your model would do well on the test set.**"
      ]
    },
    {
      "cell_type": "code",
      "execution_count": 9,
      "metadata": {
        "id": "Kho3emIRyuKF"
      },
      "outputs": [],
      "source": [
        "def split_indices(n, val_frac, seed):\n",
        "    # Determine the size of the validation set\n",
        "    n_val = int(val_frac * n)\n",
        "    np.random.seed(seed)\n",
        "    # Create random permutation between 0 to n-1\n",
        "    idxs = np.random.permutation(n)\n",
        "    # Pick first n_val indices for validation set\n",
        "    return idxs[n_val:], idxs[:n_val]"
      ]
    },
    {
      "cell_type": "code",
      "execution_count": 10,
      "metadata": {
        "id": "NC7a43-ZyuKG"
      },
      "outputs": [
        {
          "name": "stdout",
          "output_type": "stream",
          "text": [
            "#samples in training set: 48000\n",
            "#samples in validation set: 12000\n"
          ]
        }
      ],
      "source": [
        "######################\n",
        "#   YOUR CODE BELOW  #\n",
        "######################\n",
        "val_frac =  0.2\n",
        "rand_seed = 0\n",
        "\n",
        "train_indices, val_indices = split_indices(len(dataset), val_frac, rand_seed)\n",
        "print(\"#samples in training set: {}\".format(len(train_indices)))\n",
        "print(\"#samples in validation set: {}\".format(len(val_indices)))"
      ]
    },
    {
      "cell_type": "markdown",
      "metadata": {
        "id": "5JbJS5GByuKG"
      },
      "source": [
        "Next, we make use of the built-in dataloaders in PyTorch to create iterables of our our training and validation sets. This helps in avoiding fitting the whole dataset into memory and only loads a batch of the data that we can decide. \n",
        "\n",
        "**Set the `batch_size` depending on the hardware resource (GPU/CPU RAM) you are using for the assignment.**"
      ]
    },
    {
      "cell_type": "code",
      "execution_count": 11,
      "metadata": {
        "id": "Xn2qrDnkyuKG"
      },
      "outputs": [],
      "source": [
        "from torch.utils.data.sampler import SubsetRandomSampler\n",
        "from torch.utils.data.dataloader import DataLoader"
      ]
    },
    {
      "cell_type": "code",
      "execution_count": 12,
      "metadata": {
        "id": "GQwCiHOhyuKG"
      },
      "outputs": [],
      "source": [
        "######################\n",
        "#   YOUR CODE BELOW  #\n",
        "######################\n",
        "batch_size = 64"
      ]
    },
    {
      "cell_type": "code",
      "execution_count": 13,
      "metadata": {
        "id": "2gR9bGnYyuKG"
      },
      "outputs": [],
      "source": [
        "# Training sampler and data loader\n",
        "train_sampler = SubsetRandomSampler(train_indices)\n",
        "train_dl = DataLoader(dataset,\n",
        "                     batch_size,\n",
        "                     sampler=train_sampler)\n",
        "\n",
        "# Validation sampler and data loader\n",
        "val_sampler = SubsetRandomSampler(val_indices)\n",
        "val_dl = DataLoader(dataset,\n",
        "                   batch_size,\n",
        "                   sampler=val_sampler)"
      ]
    },
    {
      "cell_type": "markdown",
      "metadata": {
        "id": "yZ49pxx9yuKG"
      },
      "source": [
        "Plot images in a sample batch of data."
      ]
    },
    {
      "cell_type": "code",
      "execution_count": 14,
      "metadata": {
        "id": "ZRUpyKEryuKG"
      },
      "outputs": [],
      "source": [
        "def show_batch(dl):\n",
        "    for images, labels in dl:\n",
        "        fig, ax = plt.subplots(figsize=(10,10))\n",
        "        ax.set_xticks([]); ax.set_yticks([])\n",
        "        ax.imshow(make_grid(images, 8).permute(1, 2, 0), cmap='Greys_r')\n",
        "        break"
      ]
    },
    {
      "cell_type": "code",
      "execution_count": 15,
      "metadata": {
        "id": "fg0muQ6jyuKH"
      },
      "outputs": [
        {
          "name": "stderr",
          "output_type": "stream",
          "text": [
            "Clipping input data to the valid range for imshow with RGB data ([0..1] for floats or [0..255] for integers).\n"
          ]
        },
        {
          "data": {
            "image/png": "[encoded data removed]",
            "text/plain": [
              "<Figure size 1000x1000 with 1 Axes>"
            ]
          },
          "metadata": {},
          "output_type": "display_data"
        }
      ],
      "source": [
        "show_batch(train_dl)"
      ]
    },
    {
      "cell_type": "markdown",
      "metadata": {
        "id": "PA4syzZ0yuKH"
      },
      "source": [
        "## Building the Model"
      ]
    },
    {
      "cell_type": "markdown",
      "metadata": {
        "id": "B3HUD6Bt69ux"
      },
      "source": [
        "**Grading: 20 pts for Build the Model section \\\n",
        "They don't have to have the exact same model, e.g., the number of layers can be different, the parameters in the model \\\n",
        "The very first parameter of the first layer has to be 1 nn.Conv2d(1, ....), because this is black-white dataset, otherwise -5pts \\\n",
        "The very last parameter of the last layer has to be 10 nn.Linear(..., 10), otherwise -20pts. \\\n",
        "using nn.Conv1d (if ever happens) -20pts. \\\n",
        "no nn.MaxPool2d -10pts. \\\n",
        "If the total number of the parameters (should be printed below) is over 100,000, -10pts**"
      ]
    },
    {
      "cell_type": "markdown",
      "metadata": {
        "id": "n6tp2iP8yuKH"
      },
      "source": [
        "Create your model by defining the network architecture in the `ImageClassifierNet` class.  \n",
        "**NOTE: The number of parameters in your network must be $\\leq$ 100,000.**"
      ]
    },
    {
      "cell_type": "code",
      "execution_count": 16,
      "metadata": {
        "id": "neHUVjlyyuKH"
      },
      "outputs": [],
      "source": [
        "# Import the libraries\n",
        "import torch.nn as nn\n",
        "import torch.nn.functional as F\n",
        "from torch import Tensor\n",
        "\n",
        "from torchinfo import summary"
      ]
    },
    {
      "cell_type": "code",
      "execution_count": 17,
      "metadata": {
        "id": "vy-ENg1LyuKH"
      },
      "outputs": [],
      "source": [
        "class ImageClassifierNet(nn.Module):\n",
        "    def __init__(self, n_channels=3):\n",
        "        super(ImageClassifierNet, self).__init__()\n",
        "        \n",
        "        self.cnn_layers = nn.Sequential( \n",
        "            nn.Conv2d(1, 8, kernel_size=3, stride=1, padding=1),\n",
        "            nn.BatchNorm2d(8),\n",
        "            nn.ReLU(inplace=True),\n",
        "            nn.MaxPool2d(kernel_size=2, stride=2),\n",
        "            \n",
        "            nn.Conv2d(8, 16, kernel_size=3, stride=1, padding=1),\n",
        "            nn.BatchNorm2d(16),\n",
        "            nn.ReLU(inplace=True),\n",
        "            nn.MaxPool2d(kernel_size=2, stride=2),\n",
        "        )\n",
        "\n",
        "        self.linear_layers = nn.Sequential(\n",
        "            nn.Linear(in_features=16 * 7 * 7, out_features=64), \n",
        "            nn.ReLU(inplace=True),\n",
        "            nn.Linear(in_features=64, out_features=10), \n",
        "        )\n",
        "        \n",
        "    def forward(self, X):\n",
        "        out = self.cnn_layers(X)\n",
        "        out = out.view(out.size(0), -1)\n",
        "        out = self.linear_layers(out)\n",
        "        return out"
      ]
    },
    {
      "cell_type": "code",
      "execution_count": 18,
      "metadata": {
        "id": "jfWFN9TFyuKH"
      },
      "outputs": [],
      "source": [
        "model = ImageClassifierNet()"
      ]
    },
    {
      "cell_type": "markdown",
      "metadata": {
        "id": "8tU88zUSyuKH"
      },
      "source": [
        "The following code block prints your network architecture. It also shows the total number of parameters in your network (see `Total params`).  \n",
        "\n",
        "**NOTE: The total number of parameters in your model should be <= 100,000.**"
      ]
    },
    {
      "cell_type": "code",
      "execution_count": 19,
      "metadata": {
        "id": "OeCRnkERyuKH"
      },
      "outputs": [
        {
          "name": "stderr",
          "output_type": "stream",
          "text": [
            "/home/pineapple/.local/lib/python3.10/site-packages/torchinfo/torchinfo.py:477: UserWarning: TypedStorage is deprecated. It will be removed in the future and UntypedStorage will be the only storage class. This should only matter to you if you are using storages directly.  To access UntypedStorage directly, use tensor.untyped_storage() instead of tensor.storage()\n",
            "  action_fn=lambda data: sys.getsizeof(data.storage()),\n",
            "/home/pineapple/.local/lib/python3.10/site-packages/torch/storage.py:665: UserWarning: TypedStorage is deprecated. It will be removed in the future and UntypedStorage will be the only storage class. This should only matter to you if you are using storages directly.  To access UntypedStorage directly, use tensor.untyped_storage() instead of tensor.storage()\n",
            "  return super().__sizeof__() + self.nbytes()\n"
          ]
        },
        {
          "data": {
            "text/plain": [
              "==========================================================================================\n",
              "Layer (type:depth-idx)                   Output Shape              Param #\n",
              "==========================================================================================\n",
              "ImageClassifierNet                       [64, 10]                  --\n",
              "├─Sequential: 1-1                        [64, 16, 7, 7]            --\n",
              "│    └─Conv2d: 2-1                       [64, 8, 28, 28]           80\n",
              "│    └─BatchNorm2d: 2-2                  [64, 8, 28, 28]           16\n",
              "│    └─ReLU: 2-3                         [64, 8, 28, 28]           --\n",
              "│    └─MaxPool2d: 2-4                    [64, 8, 14, 14]           --\n",
              "│    └─Conv2d: 2-5                       [64, 16, 14, 14]          1,168\n",
              "│    └─BatchNorm2d: 2-6                  [64, 16, 14, 14]          32\n",
              "│    └─ReLU: 2-7                         [64, 16, 14, 14]          --\n",
              "│    └─MaxPool2d: 2-8                    [64, 16, 7, 7]            --\n",
              "├─Sequential: 1-2                        [64, 10]                  --\n",
              "│    └─Linear: 2-9                       [64, 64]                  50,240\n",
              "│    └─ReLU: 2-10                        [64, 64]                  --\n",
              "│    └─Linear: 2-11                      [64, 10]                  650\n",
              "==========================================================================================\n",
              "Total params: 52,186\n",
              "Trainable params: 52,186\n",
              "Non-trainable params: 0\n",
              "Total mult-adds (M): 21.93\n",
              "==========================================================================================\n",
              "Input size (MB): 0.20\n",
              "Forward/backward pass size (MB): 9.67\n",
              "Params size (MB): 0.21\n",
              "Estimated Total Size (MB): 10.08\n",
              "=========================================================================================="
            ]
          },
          "execution_count": 19,
          "metadata": {},
          "output_type": "execute_result"
        }
      ],
      "source": [
        "summary(model, input_size=(batch_size, 1, 28, 28))"
      ]
    },
    {
      "cell_type": "markdown",
      "metadata": {
        "id": "3GPSVM59uEea"
      },
      "source": [
        "##Check Model Requirements status\n",
        "\n",
        "Below code cell is to check if your model meets the requirements specefied \n",
        "\n",
        "Run the cell to check the status of your model"
      ]
    },
    {
      "cell_type": "code",
      "execution_count": 20,
      "metadata": {
        "id": "ZdRVnd7BuEDl"
      },
      "outputs": [
        {
          "name": "stdout",
          "output_type": "stream",
          "text": [
            "The Network looks good\n"
          ]
        }
      ],
      "source": [
        "def check_model(model):\n",
        "  first_layer = list(model.children())[0]\n",
        "  last_layer  = list(model.children())[-1]\n",
        "  num_params = sum(p.numel() for p in model.parameters())\n",
        "  has_conv1d = False\n",
        "  has_maxpool2d = False\n",
        "  first_layer_status= False\n",
        "  last_layer_status = False\n",
        "\n",
        "  if isinstance(first_layer, nn.Sequential):\n",
        "        if isinstance(first_layer[0], nn.Conv2d) and first_layer[0].in_channels == 1:\n",
        "          first_layer_status= True\n",
        "  else: \n",
        "    if isinstance(first_layer, nn.Conv2d) and first_layer.in_channels == 1:\n",
        "      first_layer_status= True\n",
        "\n",
        "  if isinstance(last_layer, nn.Sequential):\n",
        "    if isinstance(last_layer[-1], nn.Linear) and last_layer[-1].out_features == 10:\n",
        "      last_layer_status = True\n",
        "  else:\n",
        "    print(type(last_layer))\n",
        "    if isinstance(last_layer, nn.Linear) and last_layer.out_features == 10:\n",
        "      last_layer_status = True\n",
        "\n",
        "  for layer in model.modules():\n",
        "    if isinstance(layer, nn.Conv1d):\n",
        "        has_conv1d = True\n",
        "    if isinstance(layer, nn.MaxPool2d):\n",
        "        has_maxpool2d = True\n",
        "  flag = False\n",
        "  if first_layer_status == False:\n",
        "    print(\"The very first parameter of the first layer is not 1 nn.Conv2d(1, ....)\")\n",
        "    flag = True\n",
        "  if last_layer_status == False:\n",
        "    print(\"The very last parameter of the last layer is not 10 nn.Linear(..., 10)\")\n",
        "    flag = True\n",
        "  if has_conv1d == True:\n",
        "    print(\"Using nn.Conv1d, which should not happen\")\n",
        "    flag = True\n",
        "  if has_maxpool2d == False:\n",
        "    print(\"No nn.MaxPool2d\")\n",
        "    flag = True\n",
        "  if num_params > 100000:\n",
        "    print(\"Parameters > 100000, please make the network less complex to recieve full grade\")\n",
        "  \n",
        "  if flag == False:\n",
        "    print(\"The Network looks good\") \n",
        "\n",
        "check_model(model)"
      ]
    },
    {
      "cell_type": "markdown",
      "metadata": {
        "id": "nyrnbD-JyuKH"
      },
      "source": [
        "## Enable training on a GPU"
      ]
    },
    {
      "cell_type": "markdown",
      "metadata": {
        "id": "-hijq-mSyuKH"
      },
      "source": [
        "**NOTE:** This section is necessary if you're training your model on a GPU."
      ]
    },
    {
      "cell_type": "code",
      "execution_count": 21,
      "metadata": {
        "id": "3ag3cLTDyuKI"
      },
      "outputs": [],
      "source": [
        "def get_default_device():\n",
        "    \"\"\"Use GPU if available, else CPU\"\"\"\n",
        "    if torch.cuda.is_available():\n",
        "        return torch.device('cuda')\n",
        "    else:\n",
        "        return torch.device('cpu')\n",
        "\n",
        "def to_device(data, device):\n",
        "    \"\"\"Move tensor(s) to chosen device\"\"\"\n",
        "    if isinstance(data, (list,tuple)):\n",
        "        return [to_device(x, device) for x in data]\n",
        "    return data.to(device, non_blocking=True)\n",
        "\n",
        "class DeviceDataLoader():\n",
        "    \"\"\"Wrap a dataloader to move data to a device\"\"\"\n",
        "    def __init__(self, dl, device):\n",
        "        self.dl = dl\n",
        "        self.device = device\n",
        "    \n",
        "    def __iter__(self):\n",
        "        \"\"\"Yield a batch of data after moving it to device\"\"\"\n",
        "        for b in self.dl:\n",
        "            yield to_device(b, self.device)\n",
        "    \n",
        "    def __len__(self):\n",
        "        \"\"\"Number of batches\"\"\"\n",
        "        return len(self.dl)"
      ]
    },
    {
      "cell_type": "code",
      "execution_count": 22,
      "metadata": {
        "id": "v8SDHmBkyuKI"
      },
      "outputs": [
        {
          "data": {
            "text/plain": [
              "ImageClassifierNet(\n",
              "  (cnn_layers): Sequential(\n",
              "    (0): Conv2d(1, 8, kernel_size=(3, 3), stride=(1, 1), padding=(1, 1))\n",
              "    (1): BatchNorm2d(8, eps=1e-05, momentum=0.1, affine=True, track_running_stats=True)\n",
              "    (2): ReLU(inplace=True)\n",
              "    (3): MaxPool2d(kernel_size=2, stride=2, padding=0, dilation=1, ceil_mode=False)\n",
              "    (4): Conv2d(8, 16, kernel_size=(3, 3), stride=(1, 1), padding=(1, 1))\n",
              "    (5): BatchNorm2d(16, eps=1e-05, momentum=0.1, affine=True, track_running_stats=True)\n",
              "    (6): ReLU(inplace=True)\n",
              "    (7): MaxPool2d(kernel_size=2, stride=2, padding=0, dilation=1, ceil_mode=False)\n",
              "  )\n",
              "  (linear_layers): Sequential(\n",
              "    (0): Linear(in_features=784, out_features=64, bias=True)\n",
              "    (1): ReLU(inplace=True)\n",
              "    (2): Linear(in_features=64, out_features=10, bias=True)\n",
              "  )\n",
              ")"
            ]
          },
          "execution_count": 22,
          "metadata": {},
          "output_type": "execute_result"
        }
      ],
      "source": [
        "device = get_default_device()\n",
        "\n",
        "train_dl = DeviceDataLoader(train_dl, device)\n",
        "val_dl = DeviceDataLoader(val_dl, device)\n",
        "\n",
        "to_device(model, device)"
      ]
    },
    {
      "cell_type": "markdown",
      "metadata": {
        "id": "NUpkpFcoyuKI"
      },
      "source": [
        "## Train the model"
      ]
    },
    {
      "cell_type": "markdown",
      "metadata": {
        "id": "WePNSd7q6z4U"
      },
      "source": [
        "**Grading: the two cells below 20 pts \\\n",
        "Have to use both training set and validation set, if no validation set -15 pts \\\n",
        "In training part, zero_grad() needs to be before backward(), and backwards() need to be before step(), wrong order or missing one -20 \\\n",
        "If any of zero_grad(), backward(), or step() happens in validation, -10pts \\\n",
        "If MSE-related loss is used in loss_fn (the second cell), -15 pts**"
      ]
    },
    {
      "cell_type": "markdown",
      "metadata": {
        "id": "2_wGb9mcyuKI"
      },
      "source": [
        "Complete the `train_model` function to train your model on a dataset. Tune your network architecture and hyperparameters on a validation set."
      ]
    },
    {
      "cell_type": "code",
      "execution_count": 23,
      "metadata": {
        "id": "smWOXIi6yuKI"
      },
      "outputs": [],
      "source": [
        "def train_model(n_epochs, model, train_dl, val_dl, loss_fn, opt_fn, lr):\n",
        "    \"\"\"\n",
        "    Trains the model on a dataset.\n",
        "    \n",
        "    Args:\n",
        "        n_epochs: number of epochs\n",
        "        model: ImageClassifierNet object\n",
        "        train_dl: training dataloader\n",
        "        val_dl: validation dataloader\n",
        "        loss_fn: the loss function\n",
        "        opt_fn: the optimizer\n",
        "        lr: learning rate\n",
        "    \n",
        "    Returns:\n",
        "        The trained model. \n",
        "        A tuple of (model, train_losses, val_losses, train_accuracies, val_accuracies)\n",
        "    \"\"\"\n",
        "    # Record these values the end of each epoch\n",
        "    train_losses, val_losses, train_accuracies, val_accuracies = [], [], [], []\n",
        "    opt = opt_fn(model.parameters(), lr=lr)\n",
        "    \n",
        "    # Training process\n",
        "    for epoch in range(n_epochs):\n",
        "        model.train()\n",
        "        train_loss, train_correct, train_total = 0, 0, 0\n",
        "        val_loss, val_correct, val_total = 0, 0, 0\n",
        "        \n",
        "        for images, labels in train_dl:\n",
        "            images, labels = images.to(device), labels.to(device)\n",
        "            outputs = model(images)\n",
        "            labels = labels[:len(outputs)]\n",
        "            loss = loss_fn(outputs, labels)\n",
        "            opt.zero_grad()\n",
        "            loss.backward()\n",
        "            opt.step()\n",
        "\n",
        "            train_loss += loss.item() * images.size(0)\n",
        "            _, predicted = torch.max(outputs.data, 1)\n",
        "            train_total += labels.size(0)\n",
        "            train_correct += (predicted == labels).sum().item()\n",
        "\n",
        "        train_loss /= len(train_dl)\n",
        "        train_accuracy = train_correct / train_total\n",
        "        \n",
        "        train_losses.append(train_loss)\n",
        "        train_accuracies.append(train_accuracy)\n",
        "    \n",
        "        # Validation process\n",
        "        val_loss = None\n",
        "        val_accuracy = None\n",
        "        if val_dl:\n",
        "            val_loss = 0\n",
        "            val_accuracy = 0\n",
        "            model.eval()\n",
        "            with torch.no_grad():\n",
        "                for images, labels in val_dl:\n",
        "                    images, labels = images.to(device), labels.to(device)\n",
        "                    outputs = model(images)\n",
        "                    labels = labels[:len(outputs)]\n",
        "                    loss = loss_fn(outputs, labels)\n",
        "\n",
        "                    val_loss += loss.item() * images.size(0)\n",
        "                    _, predicted = torch.max(outputs.data, 1)\n",
        "                    val_total += labels.size(0)\n",
        "                    val_correct += (predicted == labels).sum().item()\n",
        "            \n",
        "                # Record the loss and metric\n",
        "                val_loss /= len(val_dl)\n",
        "                val_accuracy = val_correct / val_total\n",
        "\n",
        "                val_losses.append(val_loss)\n",
        "                val_accuracies.append(val_accuracy)\n",
        "    \n",
        "        # Print progress\n",
        "        if val_accuracy is not None:\n",
        "            print(\"Epoch {}/{}, train_loss: {:.4f}, val_loss: {:.4f}, train_accuracy: {:.4f}, val_accuracy: {:.4f}\"\n",
        "                    .format(epoch+1, n_epochs, train_loss, val_loss, train_accuracy, val_accuracy))\n",
        "        else:\n",
        "            print(\"Epoch {}/{}, train_loss: {:.4f}, train_accuracy: {:.4f}\"\n",
        "                    .format(epoch+1, n_epochs, train_loss, train_accuracy))\n",
        "    \n",
        "    return model, train_losses, val_losses, train_accuracies, val_accuracies"
      ]
    },
    {
      "cell_type": "code",
      "execution_count": 24,
      "metadata": {
        "id": "WLl883iGyuKI"
      },
      "outputs": [],
      "source": [
        "import torch.optim as optim\n",
        "\n",
        "num_epochs = 10                 # Max number of training epochs\n",
        "loss_fn = nn.CrossEntropyLoss() # Define the loss function\n",
        "opt_fn = optim.Adam             # Select an optimizer\n",
        "lr = 0.01                       # Set the learning rate"
      ]
    },
    {
      "cell_type": "markdown",
      "metadata": {
        "id": "nUtzETdy6tTM"
      },
      "source": [
        "**Grading: results 20 pts \\\n",
        "The final train_accuracy and val_accuracy both need to above 0.9 \\\n",
        "0.85 t0 0.9  -5pts \\\n",
        "0.80 to 0.85 -15pts \\\n",
        "below 0.80 -20 pts**"
      ]
    },
    {
      "cell_type": "code",
      "execution_count": 25,
      "metadata": {
        "id": "UtSwd0s4yuKI"
      },
      "outputs": [
        {
          "name": "stdout",
          "output_type": "stream",
          "text": [
            "Epoch 1/10, train_loss: 28.5524, val_loss: 22.0951, train_accuracy: 0.8381, val_accuracy: 0.8726\n",
            "Epoch 2/10, train_loss: 20.3107, val_loss: 22.7970, train_accuracy: 0.8833, val_accuracy: 0.8647\n",
            "Epoch 3/10, train_loss: 18.4677, val_loss: 18.5493, train_accuracy: 0.8929, val_accuracy: 0.8930\n",
            "Epoch 4/10, train_loss: 16.8107, val_loss: 22.4730, train_accuracy: 0.9040, val_accuracy: 0.8778\n",
            "Epoch 5/10, train_loss: 16.1855, val_loss: 17.9500, train_accuracy: 0.9056, val_accuracy: 0.8987\n",
            "Epoch 6/10, train_loss: 15.4066, val_loss: 19.0295, train_accuracy: 0.9093, val_accuracy: 0.8957\n",
            "Epoch 7/10, train_loss: 14.7327, val_loss: 19.0843, train_accuracy: 0.9151, val_accuracy: 0.8970\n",
            "Epoch 8/10, train_loss: 14.0470, val_loss: 18.0671, train_accuracy: 0.9186, val_accuracy: 0.8991\n",
            "Epoch 9/10, train_loss: 13.6111, val_loss: 19.0459, train_accuracy: 0.9206, val_accuracy: 0.8991\n",
            "Epoch 10/10, train_loss: 13.2351, val_loss: 17.9107, train_accuracy: 0.9226, val_accuracy: 0.9020\n"
          ]
        }
      ],
      "source": [
        "history = train_model(num_epochs, model, train_dl, val_dl, loss_fn, opt_fn, lr)\n",
        "model, train_losses, val_losses, train_accuracies, val_accuracies = history"
      ]
    },
    {
      "cell_type": "markdown",
      "metadata": {
        "id": "83RGjj7MyuKJ"
      },
      "source": [
        "## Plot loss and accuracy"
      ]
    },
    {
      "cell_type": "code",
      "execution_count": 26,
      "metadata": {
        "id": "fRMb23OVyuKJ"
      },
      "outputs": [],
      "source": [
        "def plot_accuracy(train_accuracies, val_accuracies):\n",
        "    \"\"\"Plot accuracies\"\"\"\n",
        "    plt.plot(train_accuracies, \"-x\")\n",
        "    plt.plot(val_accuracies, \"-o\")\n",
        "    plt.xlabel(\"Epoch\")\n",
        "    plt.ylabel(\"Accuracy\")\n",
        "    plt.legend([\"Training\", \"Validation\"])\n",
        "    plt.title(\"Accuracy vs. No. of epochs\")"
      ]
    },
    {
      "cell_type": "markdown",
      "metadata": {
        "id": "AY-qKkh46lmS"
      },
      "source": [
        "**Grading: 10 pts for the first figure\n",
        "Both training and validation need to go up \\\n",
        "It's okay if validation is not stable as long as it roughly goes up \\\n",
        "Any of them apparently goes down -10pts**"
      ]
    },
    {
      "cell_type": "code",
      "execution_count": 27,
      "metadata": {
        "id": "KrSNfm-6yuKJ"
      },
      "outputs": [
        {
          "data": {
            "image/png": "[encoded data removed]",
            "text/plain": [
              "<Figure size 640x480 with 1 Axes>"
            ]
          },
          "metadata": {},
          "output_type": "display_data"
        }
      ],
      "source": [
        "plot_accuracy(train_accuracies, val_accuracies)"
      ]
    },
    {
      "cell_type": "code",
      "execution_count": 28,
      "metadata": {
        "id": "SO5QQZuKyuKJ"
      },
      "outputs": [],
      "source": [
        "def plot_losses(train_losses, val_losses):\n",
        "    \"\"\"Plot losses\"\"\"\n",
        "    plt.plot(train_losses, \"-x\")\n",
        "    plt.plot(val_losses, \"-o\")\n",
        "    plt.xlabel(\"Epoch\")\n",
        "    plt.ylabel(\"Loss\")\n",
        "    plt.legend([\"Training\", \"Validation\"])\n",
        "    plt.title(\"Loss vs. No. of Epochs\")"
      ]
    },
    {
      "cell_type": "markdown",
      "metadata": {
        "id": "-3BHQxX_6eYT"
      },
      "source": [
        "**Grading: 10 pts for the second figure\n",
        "Both training and validation need to go down \\\n",
        "Again, it's okay if validation is not stable or going down first then going up \\\n",
        "If training apparently goes up, -10pts \\\n",
        "If validation goes up from the beginning, -5pts**"
      ]
    },
    {
      "cell_type": "code",
      "execution_count": 29,
      "metadata": {
        "id": "4BW28SSYyuKJ"
      },
      "outputs": [
        {
          "data": {
            "image/png": "[encoded data removed]",
            "text/plain": [
              "<Figure size 640x480 with 1 Axes>"
            ]
          },
          "metadata": {},
          "output_type": "display_data"
        }
      ],
      "source": [
        "plot_losses(train_losses, val_losses)"
      ]
    },
    {
      "cell_type": "markdown",
      "metadata": {
        "id": "Mcr9pxd8yuKJ"
      },
      "source": [
        "## Train a model on the entire dataset"
      ]
    },
    {
      "cell_type": "markdown",
      "metadata": {
        "id": "y_hq90Slx_BJ"
      },
      "source": [
        "We create a new model with same architecture and train it on the whole training data."
      ]
    },
    {
      "cell_type": "code",
      "execution_count": 30,
      "metadata": {
        "id": "xeytabxJ0ygs"
      },
      "outputs": [],
      "source": [
        "new_model = ImageClassifierNet()"
      ]
    },
    {
      "cell_type": "markdown",
      "metadata": {
        "id": "tXDRhr2L_wUq"
      },
      "source": [
        "**NOTE:** The next cell is necessary if you're training your new_model on a GPU."
      ]
    },
    {
      "cell_type": "code",
      "execution_count": 31,
      "metadata": {
        "id": "kr4-9BUD_wUq"
      },
      "outputs": [
        {
          "data": {
            "text/plain": [
              "ImageClassifierNet(\n",
              "  (cnn_layers): Sequential(\n",
              "    (0): Conv2d(1, 8, kernel_size=(3, 3), stride=(1, 1), padding=(1, 1))\n",
              "    (1): BatchNorm2d(8, eps=1e-05, momentum=0.1, affine=True, track_running_stats=True)\n",
              "    (2): ReLU(inplace=True)\n",
              "    (3): MaxPool2d(kernel_size=2, stride=2, padding=0, dilation=1, ceil_mode=False)\n",
              "    (4): Conv2d(8, 16, kernel_size=(3, 3), stride=(1, 1), padding=(1, 1))\n",
              "    (5): BatchNorm2d(16, eps=1e-05, momentum=0.1, affine=True, track_running_stats=True)\n",
              "    (6): ReLU(inplace=True)\n",
              "    (7): MaxPool2d(kernel_size=2, stride=2, padding=0, dilation=1, ceil_mode=False)\n",
              "  )\n",
              "  (linear_layers): Sequential(\n",
              "    (0): Linear(in_features=784, out_features=64, bias=True)\n",
              "    (1): ReLU(inplace=True)\n",
              "    (2): Linear(in_features=64, out_features=10, bias=True)\n",
              "  )\n",
              ")"
            ]
          },
          "execution_count": 31,
          "metadata": {},
          "output_type": "execute_result"
        }
      ],
      "source": [
        "to_device(new_model, device)"
      ]
    },
    {
      "cell_type": "code",
      "execution_count": 32,
      "metadata": {
        "id": "1vWfme9Exsib"
      },
      "outputs": [],
      "source": [
        "indices, _ = split_indices(len(dataset), 0, rand_seed)\n",
        "\n",
        "sampler = SubsetRandomSampler(indices)\n",
        "dl = DataLoader(dataset, batch_size, sampler=sampler)\n",
        "dl = DeviceDataLoader(dl, device)"
      ]
    },
    {
      "cell_type": "markdown",
      "metadata": {
        "id": "PjjLdeEJxsib"
      },
      "source": [
        "**Grading**: results 10 pts\\\n",
        "The final Train_accuracy needs to above 0.9\n",
        "*  0.85 to 0.9 -3pts\n",
        "*  0.80 to 0.85 -5pts\n",
        "*  below 0.80 -10 pts"
      ]
    },
    {
      "cell_type": "code",
      "execution_count": 33,
      "metadata": {
        "id": "oZxLGw9myuKJ"
      },
      "outputs": [
        {
          "name": "stdout",
          "output_type": "stream",
          "text": [
            "Epoch 1/8, train_loss: 25.9071, train_accuracy: 0.8525\n",
            "Epoch 2/8, train_loss: 18.3291, train_accuracy: 0.8936\n",
            "Epoch 3/8, train_loss: 16.5489, train_accuracy: 0.9050\n",
            "Epoch 4/8, train_loss: 15.5417, train_accuracy: 0.9095\n",
            "Epoch 5/8, train_loss: 14.9059, train_accuracy: 0.9136\n",
            "Epoch 6/8, train_loss: 14.2011, train_accuracy: 0.9181\n",
            "Epoch 7/8, train_loss: 13.5782, train_accuracy: 0.9218\n",
            "Epoch 8/8, train_loss: 13.0556, train_accuracy: 0.9235\n"
          ]
        }
      ],
      "source": [
        "num_epochs = 8\n",
        "lr = 0.01\n",
        "\n",
        "history = train_model(num_epochs, new_model, dl, [], loss_fn, opt_fn, lr)\n",
        "new_model = history[0]"
      ]
    },
    {
      "cell_type": "markdown",
      "metadata": {
        "id": "fhWY1imsyuKK"
      },
      "source": [
        "## Check Predictions"
      ]
    },
    {
      "cell_type": "code",
      "execution_count": 34,
      "metadata": {
        "id": "nT4lsa5qyuKK"
      },
      "outputs": [],
      "source": [
        "def view_prediction(img, label, probs, classes):\n",
        "    \"\"\"\n",
        "    Visualize predictions.\n",
        "    \"\"\"\n",
        "    probs = probs.cpu().numpy().squeeze()\n",
        "\n",
        "    fig, (ax1, ax2) = plt.subplots(figsize=(8,15), ncols=2)\n",
        "    ax1.imshow(img.resize_(1, 28, 28).cpu().numpy().squeeze(), cmap='Greys_r')\n",
        "    ax1.axis('off')\n",
        "    ax1.set_title('Actual: {}'.format(classes[label]))\n",
        "    ax2.barh(np.arange(10), probs)\n",
        "    ax2.set_aspect(0.1)\n",
        "    ax2.set_yticks(np.arange(10))\n",
        "    ax2.set_yticklabels(classes, size='small');\n",
        "    ax2.set_title('Predicted: probabilities')\n",
        "    ax2.set_xlim(0, 1.1)\n",
        "\n",
        "    plt.tight_layout()"
      ]
    },
    {
      "cell_type": "code",
      "execution_count": 35,
      "metadata": {
        "id": "VWQYxhFTyuKK"
      },
      "outputs": [
        {
          "data": {
            "image/png": "[encoded data removed]",
            "text/plain": [
              "<Figure size 800x1500 with 2 Axes>"
            ]
          },
          "metadata": {},
          "output_type": "display_data"
        }
      ],
      "source": [
        "# Calculate the class probabilites (log softmax) for img\n",
        "images = iter(dl)\n",
        "for imgs, labels in images:\n",
        "    with torch.no_grad():\n",
        "        new_model.eval()\n",
        "        # Calculate the class probabilites (log softmax) for img\n",
        "        probs = torch.nn.functional.softmax(new_model(imgs[0].unsqueeze(0)), dim=1)\n",
        "        # Plot the image and probabilites\n",
        "        view_prediction(imgs[0], labels[0], probs, dataset.classes)\n",
        "    break"
      ]
    },
    {
      "cell_type": "markdown",
      "metadata": {
        "id": "BzNYS3LRyuKK"
      },
      "source": [
        "## Save the model"
      ]
    },
    {
      "cell_type": "code",
      "execution_count": 36,
      "metadata": {
        "id": "jxiqJXORyuKK"
      },
      "outputs": [],
      "source": [
        "torch.save(new_model, 'new_model')"
      ]
    },
    {
      "cell_type": "markdown",
      "metadata": {
        "id": "gA5cuahMyuKK"
      },
      "source": [
        "## Compute accuracy on the test set"
      ]
    },
    {
      "cell_type": "markdown",
      "metadata": {
        "id": "EluGZMKE2i0U"
      },
      "source": [
        "Here we load the test data pickle file provided.\n",
        "\n",
        "You need to provide the path for the test_data pickle file and run the cells.\n",
        "\n",
        "Note: Your score will be given based on your model's performance on a test data set hidden from you. But you can expect similar results from both the test data set provided to you ans the one hidden from you.\n",
        "\n",
        "**Grading**: results 10 pts\\\n",
        "The final Test_accuracy needs to above 0.9\n",
        "*  0.85 to 0.9 -3pts\n",
        "*  0.80 to 0.85 -5pts\n",
        "*  below 0.80 -10 pts\n"
      ]
    },
    {
      "cell_type": "code",
      "execution_count": 37,
      "metadata": {
        "id": "9L6E5oAigIln"
      },
      "outputs": [],
      "source": [
        "import pickle"
      ]
    },
    {
      "cell_type": "code",
      "execution_count": 38,
      "metadata": {
        "id": "nR1CIHF4gPZB"
      },
      "outputs": [],
      "source": [
        "######################\n",
        "#  YOUR Answer BELOW #\n",
        "######################\n",
        "test_dataset_file_path = \"test_data.pickle\"\n",
        "\n",
        "with open(test_dataset_file_path, 'rb') as f:\n",
        "    test_dataset = pickle.load(f)"
      ]
    },
    {
      "cell_type": "code",
      "execution_count": 39,
      "metadata": {
        "id": "OQxtt0J-yuKK"
      },
      "outputs": [],
      "source": [
        "test_dl = DataLoader(test_dataset, batch_size)\n",
        "test_dl = DeviceDataLoader(test_dl, device)"
      ]
    },
    {
      "cell_type": "code",
      "execution_count": 40,
      "metadata": {
        "id": "HZquvkV-yuKK"
      },
      "outputs": [],
      "source": [
        "def evaluate(model, test_dl):\n",
        "    with torch.no_grad():\n",
        "        model.eval()\n",
        "        total_test_dl = 0\n",
        "        preds, labels = [], []\n",
        "        for xb, yb in test_dl:\n",
        "            # Model output\n",
        "            y_pred = model(xb)\n",
        "            _, y_pred = torch.max(y_pred, dim=1)\n",
        "            preds.extend(y_pred)\n",
        "            labels.extend(yb)               \n",
        "            total_test_dl += len(yb)\n",
        "\n",
        "    preds, labels = torch.tensor(preds), torch.tensor(labels)\n",
        "    test_accuracy = torch.sum(preds == labels).item() / len(preds)\n",
        "    return test_accuracy"
      ]
    },
    {
      "cell_type": "code",
      "execution_count": 41,
      "metadata": {
        "id": "-XP-C6cHyuKK"
      },
      "outputs": [
        {
          "name": "stdout",
          "output_type": "stream",
          "text": [
            "Test Accuracy = 0.9040\n"
          ]
        }
      ],
      "source": [
        "print(\"Test Accuracy = {:.4f}\".format(evaluate(new_model, test_dl)))"
      ]
    }
  ],
  "metadata": {
    "colab": {
      "provenance": [],
      "toc_visible": true
    },
    "kernelspec": {
      "display_name": "Python 3",
      "language": "python",
      "name": "python3"
    },
    "language_info": {
      "codemirror_mode": {
        "name": "ipython",
        "version": 3
      },
      "file_extension": ".py",
      "mimetype": "text/x-python",
      "name": "python",
      "nbconvert_exporter": "python",
      "pygments_lexer": "ipython3",
      "version": "3.10.11"
    }
  },
  "nbformat": 4,
  "nbformat_minor": 0
}
